{
 "cells": [
  {
   "cell_type": "markdown",
   "id": "6f6bd2cd-9b84-4ad0-abf3-c7a2defce903",
   "metadata": {},
   "source": [
    "# Data Science Tools and Ecosystem"
   ]
  },
  {
   "cell_type": "markdown",
   "id": "70253505-0f30-4210-ab01-b399a03d60e6",
   "metadata": {},
   "source": [
    "In this notebook, Data Science Tools and Ecosystem are summarized."
   ]
  },
  {
   "cell_type": "markdown",
   "id": "5746041d-14c5-4958-b674-bf09ec6f6143",
   "metadata": {},
   "source": [
    "__Objectives:__\n",
    "+ List popular languages for Data Science\n",
    "+ Intro to Packages, api and Data Sets\n",
    "+ Intro to Jupyter notebook and Jupyter lab\n",
    "+ Intro to R and Github"
   ]
  },
  {
   "cell_type": "markdown",
   "id": "d8739b5b-1663-433c-8d66-0565df823f2f",
   "metadata": {},
   "source": [
    "Some of the popular languages that Data Scientists use are:\n",
    "\n",
    "1. Python\n",
    "2. R\n",
    "3. SQL\n",
    "4. Java\n",
    "5. C++"
   ]
  },
  {
   "cell_type": "markdown",
   "id": "f1e5e7f0-48fb-4ebd-9a68-06d85344cf6d",
   "metadata": {},
   "source": [
    "Some of the commonly used libraries used by Data Scientists include:\n",
    "\n",
    "1. Numpy\n",
    "2. Pandas\n",
    "3. Matplotlib\n",
    "4. Seaborn\n",
    "5. Plotly"
   ]
  },
  {
   "cell_type": "markdown",
   "id": "c6e35018-f473-4a2a-ae89-5019379ea6f4",
   "metadata": {},
   "source": [
    "| Data Science Tools |\n",
    "| :-------------------: |\n",
    "| Jupyter IDE |\n",
    "| RStudio |\n",
    "| Spyder |"
   ]
  },
  {
   "cell_type": "markdown",
   "id": "172c4b74-90e1-4b7e-99b4-e92e8e5c310d",
   "metadata": {},
   "source": [
    "### Below are a few examples of evaluating arithmetic expressions in Python"
   ]
  },
  {
   "cell_type": "code",
   "execution_count": 1,
   "id": "247c17be-559e-4413-9ba9-fec63d80d1e6",
   "metadata": {},
   "outputs": [
    {
     "data": {
      "text/plain": [
       "17"
      ]
     },
     "execution_count": 1,
     "metadata": {},
     "output_type": "execute_result"
    }
   ],
   "source": [
    "# This a simple arithmetic expression to multiply then add integers\n",
    "(3*4)+5"
   ]
  },
  {
   "cell_type": "code",
   "execution_count": 2,
   "id": "23606f91-b807-40e4-94e6-fa946d4aeda8",
   "metadata": {},
   "outputs": [
    {
     "data": {
      "text/plain": [
       "3.3333333333333335"
      ]
     },
     "execution_count": 2,
     "metadata": {},
     "output_type": "execute_result"
    }
   ],
   "source": [
    "# This will convert 200 minutes to hours by diving by 60\n",
    "200 / 60"
   ]
  },
  {
   "cell_type": "markdown",
   "id": "c44d0246-b78a-4e8a-999a-629658ae1096",
   "metadata": {},
   "source": [
    "## Author\n",
    "Syed Muhammad Abdullah"
   ]
  },
  {
   "cell_type": "code",
   "execution_count": null,
   "id": "92232cba-6262-4df4-a307-4de17c030f99",
   "metadata": {},
   "outputs": [],
   "source": []
  }
 ],
 "metadata": {
  "kernelspec": {
   "display_name": "Python 3 (ipykernel)",
   "language": "python",
   "name": "python3"
  },
  "language_info": {
   "codemirror_mode": {
    "name": "ipython",
    "version": 3
   },
   "file_extension": ".py",
   "mimetype": "text/x-python",
   "name": "python",
   "nbconvert_exporter": "python",
   "pygments_lexer": "ipython3",
   "version": "3.12.8"
  }
 },
 "nbformat": 4,
 "nbformat_minor": 5
}
